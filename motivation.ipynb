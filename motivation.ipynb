{
 "cells": [
  {
   "cell_type": "code",
   "execution_count": 1,
   "metadata": {},
   "outputs": [],
   "source": [
    "import pandas as pd\n",
    "import numpy as np\n",
    "import matplotlib.pyplot as plt\n",
    "import itertools\n"
   ]
  },
  {
   "cell_type": "code",
   "execution_count": 2,
   "metadata": {},
   "outputs": [
    {
     "data": {
      "text/html": [
       "<div>\n",
       "<style scoped>\n",
       "    .dataframe tbody tr th:only-of-type {\n",
       "        vertical-align: middle;\n",
       "    }\n",
       "\n",
       "    .dataframe tbody tr th {\n",
       "        vertical-align: top;\n",
       "    }\n",
       "\n",
       "    .dataframe thead th {\n",
       "        text-align: right;\n",
       "    }\n",
       "</style>\n",
       "<table border=\"1\" class=\"dataframe\">\n",
       "  <thead>\n",
       "    <tr style=\"text-align: right;\">\n",
       "      <th></th>\n",
       "      <th>model</th>\n",
       "      <th>processing_delay (ms)</th>\n",
       "      <th>core</th>\n",
       "      <th>model_acc</th>\n",
       "      <th>ram</th>\n",
       "    </tr>\n",
       "  </thead>\n",
       "  <tbody>\n",
       "    <tr>\n",
       "      <th>0</th>\n",
       "      <td>yolov5m</td>\n",
       "      <td>2725.300789</td>\n",
       "      <td>half</td>\n",
       "      <td>64.1</td>\n",
       "      <td>1000</td>\n",
       "    </tr>\n",
       "    <tr>\n",
       "      <th>1</th>\n",
       "      <td>yolov5m</td>\n",
       "      <td>2869.115829</td>\n",
       "      <td>half</td>\n",
       "      <td>64.1</td>\n",
       "      <td>1000</td>\n",
       "    </tr>\n",
       "    <tr>\n",
       "      <th>2</th>\n",
       "      <td>yolov5m</td>\n",
       "      <td>2394.518852</td>\n",
       "      <td>half</td>\n",
       "      <td>64.1</td>\n",
       "      <td>1000</td>\n",
       "    </tr>\n",
       "    <tr>\n",
       "      <th>3</th>\n",
       "      <td>yolov5m</td>\n",
       "      <td>2873.452187</td>\n",
       "      <td>half</td>\n",
       "      <td>64.1</td>\n",
       "      <td>1000</td>\n",
       "    </tr>\n",
       "    <tr>\n",
       "      <th>4</th>\n",
       "      <td>yolov5m</td>\n",
       "      <td>2371.568680</td>\n",
       "      <td>half</td>\n",
       "      <td>64.1</td>\n",
       "      <td>1000</td>\n",
       "    </tr>\n",
       "  </tbody>\n",
       "</table>\n",
       "</div>"
      ],
      "text/plain": [
       "     model  processing_delay (ms)  core  model_acc   ram\n",
       "0  yolov5m            2725.300789  half       64.1  1000\n",
       "1  yolov5m            2869.115829  half       64.1  1000\n",
       "2  yolov5m            2394.518852  half       64.1  1000\n",
       "3  yolov5m            2873.452187  half       64.1  1000\n",
       "4  yolov5m            2371.568680  half       64.1  1000"
      ]
     },
     "execution_count": 2,
     "metadata": {},
     "output_type": "execute_result"
    }
   ],
   "source": [
    "df = pd.read_csv('dataset.csv')\n",
    "df.drop(columns=['Time', 'location', 'File Name', 'Propagation Delay (s)', 'E2E Delay (s)'], inplace=True)\n",
    "df.head()"
   ]
  },
  {
   "cell_type": "code",
   "execution_count": 3,
   "metadata": {},
   "outputs": [
    {
     "data": {
      "text/plain": [
       "array([64.1, 45.7, 56.8])"
      ]
     },
     "execution_count": 3,
     "metadata": {},
     "output_type": "execute_result"
    }
   ],
   "source": [
    "df['model_acc'].unique()"
   ]
  },
  {
   "cell_type": "code",
   "execution_count": 4,
   "metadata": {},
   "outputs": [],
   "source": [
    "latency_bound = 700  # in ms\n",
    "sla_violations = df[df['processing_delay (ms)'] > latency_bound]\n",
    "\n",
    "# Count SLA violations for each core\n",
    "sla_violation_counts = sla_violations.groupby(['model','core']).size().reset_index(name='violation_count')\n",
    "sla_violation_counts['per_core_violations'] = (sla_violation_counts['violation_count']/1000)*100\n",
    "# Generate all possible combinations of model and core\n",
    "models = df['model'].unique()\n",
    "cores = df['core'].unique()\n",
    "\n",
    "all_combinations = pd.DataFrame(list(itertools.product(models, cores)), columns=['model', 'core'])\n",
    "\n",
    "# Merge with sla_violation_counts to ensure all combinations are included\n",
    "complete_sla_violation_counts = all_combinations.merge(sla_violation_counts, on=['model', 'core'], how='left')\n",
    "# Fill missing values with zero\n",
    "complete_sla_violation_counts['violation_count'] = complete_sla_violation_counts['violation_count'].fillna(0)\n",
    "complete_sla_violation_counts['per_core_violations'] = complete_sla_violation_counts['per_core_violations'].fillna(0)\n",
    "sla_violate =  complete_sla_violation_counts\n"
   ]
  },
  {
   "cell_type": "code",
   "execution_count": 5,
   "metadata": {},
   "outputs": [
    {
     "data": {
      "text/html": [
       "<div>\n",
       "<style scoped>\n",
       "    .dataframe tbody tr th:only-of-type {\n",
       "        vertical-align: middle;\n",
       "    }\n",
       "\n",
       "    .dataframe tbody tr th {\n",
       "        vertical-align: top;\n",
       "    }\n",
       "\n",
       "    .dataframe thead th {\n",
       "        text-align: right;\n",
       "    }\n",
       "</style>\n",
       "<table border=\"1\" class=\"dataframe\">\n",
       "  <thead>\n",
       "    <tr style=\"text-align: right;\">\n",
       "      <th></th>\n",
       "      <th>model</th>\n",
       "      <th>core</th>\n",
       "      <th>violation_count</th>\n",
       "      <th>per_core_violations</th>\n",
       "    </tr>\n",
       "  </thead>\n",
       "  <tbody>\n",
       "    <tr>\n",
       "      <th>0</th>\n",
       "      <td>yolov5m</td>\n",
       "      <td>half</td>\n",
       "      <td>1000.0</td>\n",
       "      <td>100.0</td>\n",
       "    </tr>\n",
       "    <tr>\n",
       "      <th>3</th>\n",
       "      <td>yolov5n</td>\n",
       "      <td>half</td>\n",
       "      <td>367.0</td>\n",
       "      <td>36.7</td>\n",
       "    </tr>\n",
       "    <tr>\n",
       "      <th>6</th>\n",
       "      <td>yolov5s</td>\n",
       "      <td>half</td>\n",
       "      <td>1000.0</td>\n",
       "      <td>100.0</td>\n",
       "    </tr>\n",
       "    <tr>\n",
       "      <th>1</th>\n",
       "      <td>yolov5m</td>\n",
       "      <td>one</td>\n",
       "      <td>1000.0</td>\n",
       "      <td>100.0</td>\n",
       "    </tr>\n",
       "    <tr>\n",
       "      <th>4</th>\n",
       "      <td>yolov5n</td>\n",
       "      <td>one</td>\n",
       "      <td>1.0</td>\n",
       "      <td>0.1</td>\n",
       "    </tr>\n",
       "    <tr>\n",
       "      <th>7</th>\n",
       "      <td>yolov5s</td>\n",
       "      <td>one</td>\n",
       "      <td>327.0</td>\n",
       "      <td>32.7</td>\n",
       "    </tr>\n",
       "    <tr>\n",
       "      <th>2</th>\n",
       "      <td>yolov5m</td>\n",
       "      <td>two</td>\n",
       "      <td>514.0</td>\n",
       "      <td>51.4</td>\n",
       "    </tr>\n",
       "    <tr>\n",
       "      <th>5</th>\n",
       "      <td>yolov5n</td>\n",
       "      <td>two</td>\n",
       "      <td>0.0</td>\n",
       "      <td>0.0</td>\n",
       "    </tr>\n",
       "    <tr>\n",
       "      <th>8</th>\n",
       "      <td>yolov5s</td>\n",
       "      <td>two</td>\n",
       "      <td>0.0</td>\n",
       "      <td>0.0</td>\n",
       "    </tr>\n",
       "  </tbody>\n",
       "</table>\n",
       "</div>"
      ],
      "text/plain": [
       "     model  core  violation_count  per_core_violations\n",
       "0  yolov5m  half           1000.0                100.0\n",
       "3  yolov5n  half            367.0                 36.7\n",
       "6  yolov5s  half           1000.0                100.0\n",
       "1  yolov5m   one           1000.0                100.0\n",
       "4  yolov5n   one              1.0                  0.1\n",
       "7  yolov5s   one            327.0                 32.7\n",
       "2  yolov5m   two            514.0                 51.4\n",
       "5  yolov5n   two              0.0                  0.0\n",
       "8  yolov5s   two              0.0                  0.0"
      ]
     },
     "execution_count": 5,
     "metadata": {},
     "output_type": "execute_result"
    }
   ],
   "source": [
    "sla_violate.sort_values(by=['core'])"
   ]
  },
  {
   "cell_type": "code",
   "execution_count": 6,
   "metadata": {},
   "outputs": [
    {
     "data": {
      "text/html": [
       "<div>\n",
       "<style scoped>\n",
       "    .dataframe tbody tr th:only-of-type {\n",
       "        vertical-align: middle;\n",
       "    }\n",
       "\n",
       "    .dataframe tbody tr th {\n",
       "        vertical-align: top;\n",
       "    }\n",
       "\n",
       "    .dataframe thead th {\n",
       "        text-align: right;\n",
       "    }\n",
       "</style>\n",
       "<table border=\"1\" class=\"dataframe\">\n",
       "  <thead>\n",
       "    <tr style=\"text-align: right;\">\n",
       "      <th></th>\n",
       "      <th>model</th>\n",
       "      <th>core</th>\n",
       "      <th>violation_count</th>\n",
       "      <th>per_core_violations</th>\n",
       "    </tr>\n",
       "  </thead>\n",
       "  <tbody>\n",
       "    <tr>\n",
       "      <th>0</th>\n",
       "      <td>yolov5m</td>\n",
       "      <td>half</td>\n",
       "      <td>1000.0</td>\n",
       "      <td>100.0</td>\n",
       "    </tr>\n",
       "    <tr>\n",
       "      <th>3</th>\n",
       "      <td>yolov5n</td>\n",
       "      <td>half</td>\n",
       "      <td>367.0</td>\n",
       "      <td>36.7</td>\n",
       "    </tr>\n",
       "    <tr>\n",
       "      <th>6</th>\n",
       "      <td>yolov5s</td>\n",
       "      <td>half</td>\n",
       "      <td>1000.0</td>\n",
       "      <td>100.0</td>\n",
       "    </tr>\n",
       "    <tr>\n",
       "      <th>1</th>\n",
       "      <td>yolov5m</td>\n",
       "      <td>one</td>\n",
       "      <td>1000.0</td>\n",
       "      <td>100.0</td>\n",
       "    </tr>\n",
       "    <tr>\n",
       "      <th>4</th>\n",
       "      <td>yolov5n</td>\n",
       "      <td>one</td>\n",
       "      <td>1.0</td>\n",
       "      <td>0.1</td>\n",
       "    </tr>\n",
       "    <tr>\n",
       "      <th>7</th>\n",
       "      <td>yolov5s</td>\n",
       "      <td>one</td>\n",
       "      <td>327.0</td>\n",
       "      <td>32.7</td>\n",
       "    </tr>\n",
       "    <tr>\n",
       "      <th>2</th>\n",
       "      <td>yolov5m</td>\n",
       "      <td>two</td>\n",
       "      <td>514.0</td>\n",
       "      <td>51.4</td>\n",
       "    </tr>\n",
       "    <tr>\n",
       "      <th>5</th>\n",
       "      <td>yolov5n</td>\n",
       "      <td>two</td>\n",
       "      <td>0.0</td>\n",
       "      <td>0.0</td>\n",
       "    </tr>\n",
       "    <tr>\n",
       "      <th>8</th>\n",
       "      <td>yolov5s</td>\n",
       "      <td>two</td>\n",
       "      <td>0.0</td>\n",
       "      <td>0.0</td>\n",
       "    </tr>\n",
       "  </tbody>\n",
       "</table>\n",
       "</div>"
      ],
      "text/plain": [
       "     model  core  violation_count  per_core_violations\n",
       "0  yolov5m  half           1000.0                100.0\n",
       "3  yolov5n  half            367.0                 36.7\n",
       "6  yolov5s  half           1000.0                100.0\n",
       "1  yolov5m   one           1000.0                100.0\n",
       "4  yolov5n   one              1.0                  0.1\n",
       "7  yolov5s   one            327.0                 32.7\n",
       "2  yolov5m   two            514.0                 51.4\n",
       "5  yolov5n   two              0.0                  0.0\n",
       "8  yolov5s   two              0.0                  0.0"
      ]
     },
     "execution_count": 6,
     "metadata": {},
     "output_type": "execute_result"
    }
   ],
   "source": [
    "sla_violate.sort_values(by=['core', 'model'])"
   ]
  },
  {
   "cell_type": "code",
   "execution_count": 7,
   "metadata": {},
   "outputs": [
    {
     "data": {
      "image/png": "[encoded data removed]",
      "text/plain": [
       "<Figure size 700x330 with 2 Axes>"
      ]
     },
     "metadata": {},
     "output_type": "display_data"
    }
   ],
   "source": [
    "# Data\n",
    "models = ['Nano', 'Small', 'Medium']\n",
    "sla_half = [36.7, 100.0, 100.0]\n",
    "sla_one = [0.1, 32.7, 100.0]\n",
    "sla_two = [0.0, 0.0, 51.4]\n",
    "accuracy = [45.7, 56.8, 64.1]\n",
    "\n",
    "# Create figure and axis objects\n",
    "fig, ax1 = plt.subplots(1, 1, figsize=(7,3.3))\n",
    "\n",
    "# Plot throughput on the first y-axis\n",
    "ax1.set_xlabel('Yolov5 Model Variants')\n",
    "ax1.set_ylabel('SLA Violation (%)')\n",
    "bar_width = 0.2\n",
    "x = np.arange(len(models))\n",
    "ax1.bar(x - bar_width, sla_half, bar_width, label='Core = 0.5', color='red')\n",
    "ax1.bar(x, sla_one, bar_width, label='Core = 1', color='lightblue')\n",
    "ax1.bar(x + bar_width, sla_two, bar_width, label='Core = 2', color='orange')\n",
    "ax1.legend(loc='upper left')\n",
    "\n",
    "# Create the second y-axis\n",
    "ax2 = ax1.twinx()\n",
    "ax2.set_ylabel('Accuracy (%)')\n",
    "line, = ax2.plot(x, accuracy, marker='d', color='black', label='Accuracy')\n",
    "\n",
    "# Combine legends\n",
    "handles1, labels1 = ax1.get_legend_handles_labels()\n",
    "handles2, labels2 = ax2.get_legend_handles_labels()\n",
    "ax1.legend(handles1 + [line], labels1 + labels2, loc='upper left')\n",
    "\n",
    "fig.tight_layout()\n",
    "# Set x-axis labels\n",
    "ax1.set_xticks(x)\n",
    "ax1.set_xticklabels(models)\n",
    "plt.savefig('motivation_sla_800.pdf', format='pdf')\n",
    "plt.show()\n"
   ]
  },
  {
   "cell_type": "markdown",
   "metadata": {},
   "source": [
    "# Model Switching"
   ]
  },
  {
   "cell_type": "code",
   "execution_count": 8,
   "metadata": {},
   "outputs": [],
   "source": [
    "dfms = pd.read_csv('model_switching.csv')\n",
    "model_accuracies = {\n",
    "    'yolov5n': 0.457,\n",
    "    'yolov5s': 0.568,\n",
    "    'yolov5m': 0.641\n",
    "}"
   ]
  },
  {
   "cell_type": "code",
   "execution_count": 9,
   "metadata": {},
   "outputs": [],
   "source": [
    "dfms.drop(columns=['time', 'location', 'file_name', 'propagation_delay (s)', 'e2e_delay (s)'], inplace=True)"
   ]
  },
  {
   "cell_type": "code",
   "execution_count": 10,
   "metadata": {},
   "outputs": [
    {
     "data": {
      "text/plain": [
       "array([ 500, 1000, 2000])"
      ]
     },
     "execution_count": 10,
     "metadata": {},
     "output_type": "execute_result"
    }
   ],
   "source": [
    "dfms['core'].unique()"
   ]
  },
  {
   "cell_type": "code",
   "execution_count": 11,
   "metadata": {},
   "outputs": [
    {
     "data": {
      "text/plain": [
       "array(['yolov5s', 'yolov5m'], dtype=object)"
      ]
     },
     "execution_count": 11,
     "metadata": {},
     "output_type": "execute_result"
    }
   ],
   "source": [
    "dfms1 = dfms[dfms['cid']==1]\n",
    "dfms1['model_name'].unique()"
   ]
  },
  {
   "cell_type": "code",
   "execution_count": 12,
   "metadata": {},
   "outputs": [
    {
     "data": {
      "text/plain": [
       "core\n",
       "500     57\n",
       "1000    51\n",
       "2000     7\n",
       "dtype: int64"
      ]
     },
     "execution_count": 12,
     "metadata": {},
     "output_type": "execute_result"
    }
   ],
   "source": [
    "sla_violations = dfms[dfms['processing_delay (ms)'] > 700].groupby('core').size()\n",
    "sla_violations"
   ]
  },
  {
   "cell_type": "code",
   "execution_count": 13,
   "metadata": {},
   "outputs": [
    {
     "data": {
      "text/plain": [
       "core\n",
       "500     56.435644\n",
       "1000    50.495050\n",
       "2000     6.930693\n",
       "dtype: float64"
      ]
     },
     "execution_count": 13,
     "metadata": {},
     "output_type": "execute_result"
    }
   ],
   "source": [
    "total_traffic = dfms.groupby('core').size()\n",
    "sla_violation_rate = (sla_violations / total_traffic) * 100\n",
    "sla_violation_rate"
   ]
  },
  {
   "cell_type": "code",
   "execution_count": 14,
   "metadata": {},
   "outputs": [
    {
     "data": {
      "text/html": [
       "<div>\n",
       "<style scoped>\n",
       "    .dataframe tbody tr th:only-of-type {\n",
       "        vertical-align: middle;\n",
       "    }\n",
       "\n",
       "    .dataframe tbody tr th {\n",
       "        vertical-align: top;\n",
       "    }\n",
       "\n",
       "    .dataframe thead th {\n",
       "        text-align: right;\n",
       "    }\n",
       "</style>\n",
       "<table border=\"1\" class=\"dataframe\">\n",
       "  <thead>\n",
       "    <tr style=\"text-align: right;\">\n",
       "      <th></th>\n",
       "      <th>cid</th>\n",
       "      <th>model_name</th>\n",
       "      <th>processing_delay (ms)</th>\n",
       "      <th>core</th>\n",
       "    </tr>\n",
       "  </thead>\n",
       "  <tbody>\n",
       "    <tr>\n",
       "      <th>0</th>\n",
       "      <td>0</td>\n",
       "      <td>yolov5n</td>\n",
       "      <td>846.629620</td>\n",
       "      <td>500</td>\n",
       "    </tr>\n",
       "    <tr>\n",
       "      <th>1</th>\n",
       "      <td>1</td>\n",
       "      <td>yolov5s</td>\n",
       "      <td>662.415028</td>\n",
       "      <td>1000</td>\n",
       "    </tr>\n",
       "    <tr>\n",
       "      <th>2</th>\n",
       "      <td>2</td>\n",
       "      <td>yolov5m</td>\n",
       "      <td>552.519083</td>\n",
       "      <td>2000</td>\n",
       "    </tr>\n",
       "    <tr>\n",
       "      <th>3</th>\n",
       "      <td>0</td>\n",
       "      <td>yolov5n</td>\n",
       "      <td>1033.409357</td>\n",
       "      <td>500</td>\n",
       "    </tr>\n",
       "    <tr>\n",
       "      <th>4</th>\n",
       "      <td>1</td>\n",
       "      <td>yolov5s</td>\n",
       "      <td>727.887869</td>\n",
       "      <td>1000</td>\n",
       "    </tr>\n",
       "    <tr>\n",
       "      <th>...</th>\n",
       "      <td>...</td>\n",
       "      <td>...</td>\n",
       "      <td>...</td>\n",
       "      <td>...</td>\n",
       "    </tr>\n",
       "    <tr>\n",
       "      <th>298</th>\n",
       "      <td>1</td>\n",
       "      <td>yolov5m</td>\n",
       "      <td>1285.557747</td>\n",
       "      <td>1000</td>\n",
       "    </tr>\n",
       "    <tr>\n",
       "      <th>299</th>\n",
       "      <td>2</td>\n",
       "      <td>yolov5m</td>\n",
       "      <td>693.729639</td>\n",
       "      <td>2000</td>\n",
       "    </tr>\n",
       "    <tr>\n",
       "      <th>300</th>\n",
       "      <td>0</td>\n",
       "      <td>yolov5n</td>\n",
       "      <td>542.279243</td>\n",
       "      <td>500</td>\n",
       "    </tr>\n",
       "    <tr>\n",
       "      <th>301</th>\n",
       "      <td>1</td>\n",
       "      <td>yolov5m</td>\n",
       "      <td>1071.745872</td>\n",
       "      <td>1000</td>\n",
       "    </tr>\n",
       "    <tr>\n",
       "      <th>302</th>\n",
       "      <td>2</td>\n",
       "      <td>yolov5m</td>\n",
       "      <td>498.083830</td>\n",
       "      <td>2000</td>\n",
       "    </tr>\n",
       "  </tbody>\n",
       "</table>\n",
       "<p>303 rows × 4 columns</p>\n",
       "</div>"
      ],
      "text/plain": [
       "     cid model_name  processing_delay (ms)  core\n",
       "0      0    yolov5n             846.629620   500\n",
       "1      1    yolov5s             662.415028  1000\n",
       "2      2    yolov5m             552.519083  2000\n",
       "3      0    yolov5n            1033.409357   500\n",
       "4      1    yolov5s             727.887869  1000\n",
       "..   ...        ...                    ...   ...\n",
       "298    1    yolov5m            1285.557747  1000\n",
       "299    2    yolov5m             693.729639  2000\n",
       "300    0    yolov5n             542.279243   500\n",
       "301    1    yolov5m            1071.745872  1000\n",
       "302    2    yolov5m             498.083830  2000\n",
       "\n",
       "[303 rows x 4 columns]"
      ]
     },
     "execution_count": 14,
     "metadata": {},
     "output_type": "execute_result"
    }
   ],
   "source": [
    "dfms"
   ]
  },
  {
   "cell_type": "code",
   "execution_count": 15,
   "metadata": {},
   "outputs": [],
   "source": [
    "# Calculate the average accuracy for each core\n",
    "dfms['model_accuracy'] = dfms['model_name'].map(model_accuracies)\n",
    "traffic_by_core_model = dfms.groupby(['core', 'model_name']).size().unstack(fill_value=0)\n",
    "average_accuracies = {}\n",
    "for core in traffic_by_core_model.index:\n",
    "    total_traffic_core = total_traffic[core]\n",
    "    weighted_sum = 0\n",
    "    for model in traffic_by_core_model.columns:\n",
    "        traffic_by_model = traffic_by_core_model.loc[core, model]\n",
    "        if traffic_by_model > 0:\n",
    "            model_accuracy = model_accuracies[model]\n",
    "            weighted_sum += (traffic_by_model / total_traffic_core) * model_accuracy\n",
    "    average_accuracies[core] = weighted_sum * 100  # Convert to percentage\n",
    "\n"
   ]
  },
  {
   "cell_type": "code",
   "execution_count": 16,
   "metadata": {},
   "outputs": [
    {
     "data": {
      "text/html": [
       "<div>\n",
       "<style scoped>\n",
       "    .dataframe tbody tr th:only-of-type {\n",
       "        vertical-align: middle;\n",
       "    }\n",
       "\n",
       "    .dataframe tbody tr th {\n",
       "        vertical-align: top;\n",
       "    }\n",
       "\n",
       "    .dataframe thead th {\n",
       "        text-align: right;\n",
       "    }\n",
       "</style>\n",
       "<table border=\"1\" class=\"dataframe\">\n",
       "  <thead>\n",
       "    <tr style=\"text-align: right;\">\n",
       "      <th>model_name</th>\n",
       "      <th>yolov5m</th>\n",
       "      <th>yolov5n</th>\n",
       "      <th>yolov5s</th>\n",
       "    </tr>\n",
       "    <tr>\n",
       "      <th>core</th>\n",
       "      <th></th>\n",
       "      <th></th>\n",
       "      <th></th>\n",
       "    </tr>\n",
       "  </thead>\n",
       "  <tbody>\n",
       "    <tr>\n",
       "      <th>500</th>\n",
       "      <td>0</td>\n",
       "      <td>101</td>\n",
       "      <td>0</td>\n",
       "    </tr>\n",
       "    <tr>\n",
       "      <th>1000</th>\n",
       "      <td>49</td>\n",
       "      <td>0</td>\n",
       "      <td>52</td>\n",
       "    </tr>\n",
       "    <tr>\n",
       "      <th>2000</th>\n",
       "      <td>101</td>\n",
       "      <td>0</td>\n",
       "      <td>0</td>\n",
       "    </tr>\n",
       "  </tbody>\n",
       "</table>\n",
       "</div>"
      ],
      "text/plain": [
       "model_name  yolov5m  yolov5n  yolov5s\n",
       "core                                 \n",
       "500               0      101        0\n",
       "1000             49        0       52\n",
       "2000            101        0        0"
      ]
     },
     "execution_count": 16,
     "metadata": {},
     "output_type": "execute_result"
    }
   ],
   "source": [
    "traffic_by_core_model"
   ]
  },
  {
   "cell_type": "code",
   "execution_count": 17,
   "metadata": {},
   "outputs": [],
   "source": [
    "# Prepare data for plotting\n",
    "cores = list(sla_violation_rate.index)\n",
    "sla_rates = list(sla_violation_rate.values)\n",
    "accuracies = [average_accuracies[core] for core in cores]"
   ]
  },
  {
   "cell_type": "code",
   "execution_count": 18,
   "metadata": {},
   "outputs": [
    {
     "data": {
      "text/plain": [
       "[45.7, 60.34158415841584, 64.1]"
      ]
     },
     "execution_count": 18,
     "metadata": {},
     "output_type": "execute_result"
    }
   ],
   "source": [
    "accuracies"
   ]
  },
  {
   "cell_type": "code",
   "execution_count": 19,
   "metadata": {},
   "outputs": [
    {
     "data": {
      "image/png": "[encoded data removed]",
      "text/plain": [
       "<Figure size 700x330 with 2 Axes>"
      ]
     },
     "metadata": {},
     "output_type": "display_data"
    }
   ],
   "source": [
    "# Data\n",
    "cores = [500, 1000, 2000]\n",
    "sla_rates = [56.435, 50.495, 6.930]\n",
    "accuracies = [45.7, 60.34158415841584, 64.1]\n",
    "\n",
    "fig, ax1 = plt.subplots(1, 1, figsize=(7,3.3))\n",
    "\n",
    "bar_width = 0.35\n",
    "x1 = np.arange(len(cores))\n",
    "x2 = [x + bar_width for x in x1]\n",
    "\n",
    "ax1.bar(x1, sla_rates, width=bar_width, label='SLA Violations', color='lightblue')\n",
    "\n",
    "ax1.set_xlabel('Yolov5 Model Variants')\n",
    "ax1.set_ylabel('SLA Violation (%)')\n",
    "ax1.legend(loc='upper left')\n",
    "\n",
    "# Create the second y-axis\n",
    "ax2 = ax1.twinx()\n",
    "ax2.set_ylabel('Accuracy (%)')\n",
    "line, = ax2.plot(x, accuracies, marker='d', color='black', label='Accuracy')\n",
    "\n",
    "handles1, labels1 = ax1.get_legend_handles_labels()\n",
    "handles2, labels2 = ax2.get_legend_handles_labels()\n",
    "ax1.legend(handles1 + [line], labels1 + labels2, loc='upper left')\n",
    "\n",
    "fig.tight_layout()\n",
    "\n",
    "ax1.set_xticks(x)\n",
    "#plt.savefig('motivation_sla_800.pdf', format='pdf')\n",
    "plt.show()"
   ]
  },
  {
   "cell_type": "code",
   "execution_count": 55,
   "metadata": {},
   "outputs": [
    {
     "data": {
      "image/png": "[encoded data removed]",
      "text/plain": [
       "<Figure size 800x280 with 4 Axes>"
      ]
     },
     "metadata": {},
     "output_type": "display_data"
    }
   ],
   "source": [
    "# Data for figure 1\n",
    "cores = [500, 1000, 2000]\n",
    "sla_rates = [56.435, 50.495, 6.930]\n",
    "accuracies = [45.7, 60.34158415841584, 64.1]\n",
    "\n",
    "# Data for figure 2\n",
    "models = ['Nano', 'Small', 'Medium']\n",
    "sla_half = [36.7, 100.0, 100.0]\n",
    "sla_one = [0.1, 32.7, 100.0]\n",
    "sla_two = [0.0, 0.0, 51.4]\n",
    "accuracy = [45.7, 56.8, 64.1]\n",
    "\n",
    "# Create figure and axis objects for subplots\n",
    "fig, (ax1, ax3) = plt.subplots(1, 2, figsize=(8,2.8))\n",
    "\n",
    "# Plot figure 1\n",
    "bar_width = 0.5\n",
    "x3 = np.arange(len(cores))\n",
    "\n",
    "ax3.bar(x3, sla_rates, width=bar_width, label='SLA Violations', color='lightblue')\n",
    "ax3.set_xlabel('Container Cores', labelpad=5)\n",
    "ax3.set_ylabel('SLA Violation (%)', labelpad=5)\n",
    "ax3.set_ylim([0,100])\n",
    "ax3.legend(loc='upper left')\n",
    "\n",
    "# Create the second y-axis for figure 1\n",
    "ax4 = ax3.twinx()\n",
    "ax4.set_ylabel('Accuracy (%)', labelpad=5)\n",
    "line1, = ax4.plot(x3, accuracies, marker='d', color='black', label='Accuracy')\n",
    "\n",
    "handles1, labels1 = ax3.get_legend_handles_labels()\n",
    "handles2, labels2 = ax4.get_legend_handles_labels()\n",
    "ax3.legend(handles1 + [line1], labels1 + labels2, loc='upper left')\n",
    "\n",
    "ax3.set_xticks(x3)\n",
    "ax3.set_xticklabels(['0.5', '1', '2'])\n",
    "\n",
    "# Plot figure 2\n",
    "bar_width = 0.25\n",
    "x1 = np.arange(len(models))\n",
    "ax1.bar(x1 - bar_width, sla_half, bar_width, label='Core = 0.5', color='red')\n",
    "ax1.bar(x1, sla_one, bar_width, label='Core = 1', color='lightblue')\n",
    "ax1.bar(x1 + bar_width, sla_two, bar_width, label='Core = 2', color='orange')\n",
    "ax1.set_xlabel('Yolo5 Model Variants', labelpad=5)\n",
    "ax1.set_ylabel('SLA Violation (%)', labelpad=5)\n",
    "#ax1.set_ylim([0,100])\n",
    "ax1.legend(loc='upper left')\n",
    "\n",
    "# Create the second y-axis for figure 2\n",
    "ax2 = ax1.twinx()\n",
    "ax2.set_ylabel('Accuracy (%)', labelpad=5)\n",
    "line2, = ax2.plot(x1, accuracy, marker='d', color='black', label='Accuracy')\n",
    "\n",
    "handles3, labels3 = ax1.get_legend_handles_labels()\n",
    "handles4, labels4 = ax2.get_legend_handles_labels()\n",
    "ax1.legend(handles3 + [line2], labels3 + labels4, loc='upper left')\n",
    "\n",
    "ax1.set_xticks(x1)\n",
    "ax1.set_xticklabels(models)\n",
    "\n",
    "# Add subplot labels\n",
    "fig.text(0.25, 0.04, '(a)', ha='center', va='center', fontsize=10)\n",
    "fig.text(0.75, 0.04, '(b)', ha='center', va='center', fontsize=10)\n",
    "\n",
    "fig.subplots_adjust(wspace=0.2, bottom=0.25)  # Increased bottom margin significantly\n",
    "fig.tight_layout(rect=[0, 0.03, 1, 1])\n",
    "plt.savefig('motivation_sla_combined.pdf', format='pdf')\n",
    "plt.show()"
   ]
  },
  {
   "cell_type": "code",
   "execution_count": 70,
   "metadata": {},
   "outputs": [
    {
     "name": "stderr",
     "output_type": "stream",
     "text": [
      "/tmp/ipykernel_15360/967422714.py:41: UserWarning: FixedFormatter should only be used together with FixedLocator\n",
      "  ax1.set_xticklabels(cores)\n"
     ]
    },
    {
     "data": {
      "image/png": "[encoded data removed]",
      "text/plain": [
       "<Figure size 700x330 with 2 Axes>"
      ]
     },
     "metadata": {},
     "output_type": "display_data"
    }
   ],
   "source": [
    "# Data\n",
    "cores = [500, 1000, 2000]\n",
    "sla_rates = [56.435, 50.495, 6.930]\n",
    "core_model0 = np.array([101, 0, 0])\n",
    "core_model1 = np.array([0, 52, 49])\n",
    "core_model2 = np.array([0, 0, 101])\n",
    "\n",
    "# Create figure and axis objects\n",
    "fig, ax1 = plt.subplots(1, 1, figsize=(7,3.3))\n",
    "\n",
    "bar_width = 0.35\n",
    "x1 = np.arange(len(cores))\n",
    "x2 = [x + bar_width for x in x1]\n",
    "\n",
    "ax1.bar(x1, sla_rates, width=bar_width, label='SLA Violations', color='lightblue')\n",
    "\n",
    "# Plotting the stacked bar graph\n",
    "#ax1.bar(x2, core_model0, color='r', width=bar_width, label='Nano')\n",
    "#ax1.bar(x2, core_model1, color='lightblue', bottom=core_model0, width=bar_width, label='Small')\n",
    "#ax1.bar(x2, core_model2, color='orange', bottom=core_model0+core_model1, width=bar_width, label='Medium')\n",
    "\n",
    "#ax1.set_xticks([r + bar_width/2 for r in range(len(cores))])\n",
    "#ax1.set_xticklabels(cores)\n",
    "ax1.set_xlabel('Yolov5 Model Variants')\n",
    "ax1.set_ylabel('SLA Violation (%)')\n",
    "ax1.legend(loc='upper left')\n",
    "\n",
    "# Create the second y-axis\n",
    "ax2 = ax1.twinx()\n",
    "ax2.set_ylabel('Accuracy (%)')\n",
    "line, = ax2.plot(x, accuracies, marker='d', color='black', label='Accuracy')\n",
    "\n",
    "# Combine legends\n",
    "handles1, labels1 = ax1.get_legend_handles_labels()\n",
    "handles2, labels2 = ax2.get_legend_handles_labels()\n",
    "ax1.legend(handles1 + [line], labels1 + labels2, loc='upper left')\n",
    "\n",
    "fig.tight_layout()\n",
    "# Set x-axis labels\n",
    "#ax1.set_xticks(x)\n",
    "ax1.set_xticklabels(cores)\n",
    "#plt.savefig('motivation_sla_800.pdf', format='pdf')\n",
    "plt.show()"
   ]
  },
  {
   "cell_type": "code",
   "execution_count": 58,
   "metadata": {},
   "outputs": [
    {
     "data": {
      "image/png": "[encoded data removed]",
      "text/plain": [
       "<Figure size 1000x600 with 1 Axes>"
      ]
     },
     "metadata": {},
     "output_type": "display_data"
    }
   ],
   "source": [
    "cores = [500, 1000, 2000]\n",
    "sla_rates = [56.43564356435643, 50.495049504950494, 6.93]\n",
    "core_model0 = np.array([10, 15, 20])\n",
    "core_model1 = np.array([5, 10, 15])\n",
    "core_model2 = np.array([2, 4, 6])\n",
    "\n",
    "# Parameters for bar width and positions\n",
    "bar_width = 0.35\n",
    "x1 = np.arange(len(cores))\n",
    "x2 = x1 + bar_width\n",
    "\n",
    "# Create subplots\n",
    "fig, ax1 = plt.subplots(figsize=(10, 6))\n",
    "\n",
    "# Plotting the straight bar graph\n",
    "ax1.bar(x1, sla_rates, width=bar_width, label='SLA Violations', color='red')\n",
    "\n",
    "# Plotting the stacked bar graph\n",
    "ax1.bar(x2, core_model0, color='blue', width=bar_width, label='Stacked Bar 1')\n",
    "ax1.bar(x2, core_model1, bottom=core_model0, color='green', width=bar_width, label='Stacked Bar 2')\n",
    "ax1.bar(x2, core_model2, bottom=core_model0 + core_model1, color='orange', width=bar_width, label='Stacked Bar 3')\n",
    "\n",
    "# Setting x-ticks, labels, and legend\n",
    "ax1.set_xticks(x1 + bar_width / 2)\n",
    "ax1.set_xticklabels(cores)\n",
    "ax1.set_xlabel('Cores')\n",
    "ax1.set_ylabel('SLA Violation (%)')\n",
    "ax1.legend(loc='upper left')\n",
    "\n",
    "# Display the plot\n",
    "plt.title('SLA Violation and Core Model Stacked Bar Graph')\n",
    "plt.show()"
   ]
  },
  {
   "cell_type": "code",
   "execution_count": 18,
   "metadata": {},
   "outputs": [
    {
     "data": {
      "text/plain": [
       "[500, 1000, 2000]"
      ]
     },
     "execution_count": 18,
     "metadata": {},
     "output_type": "execute_result"
    }
   ],
   "source": [
    "cores"
   ]
  },
  {
   "cell_type": "code",
   "execution_count": 142,
   "metadata": {},
   "outputs": [
    {
     "data": {
      "text/html": [
       "<div>\n",
       "<style scoped>\n",
       "    .dataframe tbody tr th:only-of-type {\n",
       "        vertical-align: middle;\n",
       "    }\n",
       "\n",
       "    .dataframe tbody tr th {\n",
       "        vertical-align: top;\n",
       "    }\n",
       "\n",
       "    .dataframe thead th {\n",
       "        text-align: right;\n",
       "    }\n",
       "</style>\n",
       "<table border=\"1\" class=\"dataframe\">\n",
       "  <thead>\n",
       "    <tr style=\"text-align: right;\">\n",
       "      <th>model_name</th>\n",
       "      <th>yolov5m</th>\n",
       "      <th>yolov5n</th>\n",
       "      <th>yolov5s</th>\n",
       "    </tr>\n",
       "    <tr>\n",
       "      <th>cid</th>\n",
       "      <th></th>\n",
       "      <th></th>\n",
       "      <th></th>\n",
       "    </tr>\n",
       "  </thead>\n",
       "  <tbody>\n",
       "    <tr>\n",
       "      <th>0</th>\n",
       "      <td>0</td>\n",
       "      <td>101</td>\n",
       "      <td>0</td>\n",
       "    </tr>\n",
       "    <tr>\n",
       "      <th>1</th>\n",
       "      <td>49</td>\n",
       "      <td>0</td>\n",
       "      <td>52</td>\n",
       "    </tr>\n",
       "    <tr>\n",
       "      <th>2</th>\n",
       "      <td>101</td>\n",
       "      <td>0</td>\n",
       "      <td>0</td>\n",
       "    </tr>\n",
       "  </tbody>\n",
       "</table>\n",
       "</div>"
      ],
      "text/plain": [
       "model_name  yolov5m  yolov5n  yolov5s\n",
       "cid                                  \n",
       "0                 0      101        0\n",
       "1                49        0       52\n",
       "2               101        0        0"
      ]
     },
     "execution_count": 142,
     "metadata": {},
     "output_type": "execute_result"
    }
   ],
   "source": [
    "model_counts = dfms.groupby(['cid', 'model_name']).size().unstack(fill_value=0)\n",
    "model_counts"
   ]
  },
  {
   "cell_type": "code",
   "execution_count": 143,
   "metadata": {},
   "outputs": [
    {
     "data": {
      "text/plain": [
       "array([ 500, 1000, 2000])"
      ]
     },
     "execution_count": 143,
     "metadata": {},
     "output_type": "execute_result"
    }
   ],
   "source": [
    "dfms['core'].unique()"
   ]
  },
  {
   "cell_type": "code",
   "execution_count": 144,
   "metadata": {},
   "outputs": [
    {
     "data": {
      "text/plain": [
       "cid\n",
       "0    53.465347\n",
       "1    48.514851\n",
       "2     1.980198\n",
       "dtype: float64"
      ]
     },
     "execution_count": 144,
     "metadata": {},
     "output_type": "execute_result"
    }
   ],
   "source": [
    "# Count the number of occurrences for each core\n",
    "core_counts = dfms.groupby('cid').size()\n",
    "\n",
    "# Calculate the number of SLA violations for each cid\n",
    "sla_violations = dfms[dfms['processing_delay (ms)'] > 800].groupby('cid').size()\n",
    "(sla_violations/ core_counts)*100"
   ]
  },
  {
   "cell_type": "code",
   "execution_count": 145,
   "metadata": {},
   "outputs": [
    {
     "data": {
      "text/plain": [
       "core\n",
       "500     53.465347\n",
       "1000    48.514851\n",
       "2000     1.980198\n",
       "dtype: float64"
      ]
     },
     "execution_count": 145,
     "metadata": {},
     "output_type": "execute_result"
    }
   ],
   "source": [
    "core_counts = dfms.groupby('core').size()\n",
    "\n",
    "# Calculate the number of SLA violations for each cid\n",
    "sla_violations = dfms[dfms['processing_delay (ms)'] > 800].groupby('core').size()\n",
    "(sla_violations/ core_counts)*100"
   ]
  },
  {
   "cell_type": "code",
   "execution_count": 146,
   "metadata": {},
   "outputs": [],
   "source": [
    "\n",
    "\n",
    "# Calculate the traffic handled by each model for each cid\n",
    "traffic_handled = dfms.groupby(['core', 'model_name']).size().unstack(fill_value=0)\n",
    "\n",
    "# Calculate the total traffic for each cid\n",
    "total_traffic = dfms.groupby('cid').size()\n",
    "\n",
    "# Calculate the weighted average accuracy for each cid\n",
    "average_accuracies = {}\n"
   ]
  },
  {
   "cell_type": "code",
   "execution_count": 147,
   "metadata": {},
   "outputs": [
    {
     "data": {
      "text/html": [
       "<div>\n",
       "<style scoped>\n",
       "    .dataframe tbody tr th:only-of-type {\n",
       "        vertical-align: middle;\n",
       "    }\n",
       "\n",
       "    .dataframe tbody tr th {\n",
       "        vertical-align: top;\n",
       "    }\n",
       "\n",
       "    .dataframe thead th {\n",
       "        text-align: right;\n",
       "    }\n",
       "</style>\n",
       "<table border=\"1\" class=\"dataframe\">\n",
       "  <thead>\n",
       "    <tr style=\"text-align: right;\">\n",
       "      <th>model_name</th>\n",
       "      <th>yolov5m</th>\n",
       "      <th>yolov5n</th>\n",
       "      <th>yolov5s</th>\n",
       "    </tr>\n",
       "    <tr>\n",
       "      <th>core</th>\n",
       "      <th></th>\n",
       "      <th></th>\n",
       "      <th></th>\n",
       "    </tr>\n",
       "  </thead>\n",
       "  <tbody>\n",
       "    <tr>\n",
       "      <th>500</th>\n",
       "      <td>0</td>\n",
       "      <td>101</td>\n",
       "      <td>0</td>\n",
       "    </tr>\n",
       "    <tr>\n",
       "      <th>1000</th>\n",
       "      <td>49</td>\n",
       "      <td>0</td>\n",
       "      <td>52</td>\n",
       "    </tr>\n",
       "    <tr>\n",
       "      <th>2000</th>\n",
       "      <td>101</td>\n",
       "      <td>0</td>\n",
       "      <td>0</td>\n",
       "    </tr>\n",
       "  </tbody>\n",
       "</table>\n",
       "</div>"
      ],
      "text/plain": [
       "model_name  yolov5m  yolov5n  yolov5s\n",
       "core                                 \n",
       "500               0      101        0\n",
       "1000             49        0       52\n",
       "2000            101        0        0"
      ]
     },
     "execution_count": 147,
     "metadata": {},
     "output_type": "execute_result"
    }
   ],
   "source": [
    "traffic_handled"
   ]
  },
  {
   "cell_type": "code",
   "execution_count": 148,
   "metadata": {},
   "outputs": [
    {
     "data": {
      "text/plain": [
       "Index([500, 1000, 2000], dtype='int64', name='core')"
      ]
     },
     "execution_count": 148,
     "metadata": {},
     "output_type": "execute_result"
    }
   ],
   "source": [
    "traffic_handled.index"
   ]
  },
  {
   "cell_type": "code",
   "execution_count": 149,
   "metadata": {},
   "outputs": [
    {
     "ename": "KeyError",
     "evalue": "500",
     "output_type": "error",
     "traceback": [
      "\u001b[0;31m---------------------------------------------------------------------------\u001b[0m",
      "\u001b[0;31mKeyError\u001b[0m                                  Traceback (most recent call last)",
      "File \u001b[0;32m~/miniconda3/envs/bitbrain/lib/python3.11/site-packages/pandas/core/indexes/base.py:3653\u001b[0m, in \u001b[0;36mIndex.get_loc\u001b[0;34m(self, key)\u001b[0m\n\u001b[1;32m   3652\u001b[0m \u001b[38;5;28;01mtry\u001b[39;00m:\n\u001b[0;32m-> 3653\u001b[0m     \u001b[38;5;28;01mreturn\u001b[39;00m \u001b[38;5;28;43mself\u001b[39;49m\u001b[38;5;241;43m.\u001b[39;49m\u001b[43m_engine\u001b[49m\u001b[38;5;241;43m.\u001b[39;49m\u001b[43mget_loc\u001b[49m\u001b[43m(\u001b[49m\u001b[43mcasted_key\u001b[49m\u001b[43m)\u001b[49m\n\u001b[1;32m   3654\u001b[0m \u001b[38;5;28;01mexcept\u001b[39;00m \u001b[38;5;167;01mKeyError\u001b[39;00m \u001b[38;5;28;01mas\u001b[39;00m err:\n",
      "File \u001b[0;32m~/miniconda3/envs/bitbrain/lib/python3.11/site-packages/pandas/_libs/index.pyx:147\u001b[0m, in \u001b[0;36mpandas._libs.index.IndexEngine.get_loc\u001b[0;34m()\u001b[0m\n",
      "File \u001b[0;32m~/miniconda3/envs/bitbrain/lib/python3.11/site-packages/pandas/_libs/index.pyx:176\u001b[0m, in \u001b[0;36mpandas._libs.index.IndexEngine.get_loc\u001b[0;34m()\u001b[0m\n",
      "File \u001b[0;32mpandas/_libs/hashtable_class_helper.pxi:2606\u001b[0m, in \u001b[0;36mpandas._libs.hashtable.Int64HashTable.get_item\u001b[0;34m()\u001b[0m\n",
      "File \u001b[0;32mpandas/_libs/hashtable_class_helper.pxi:2630\u001b[0m, in \u001b[0;36mpandas._libs.hashtable.Int64HashTable.get_item\u001b[0;34m()\u001b[0m\n",
      "\u001b[0;31mKeyError\u001b[0m: 500",
      "\nThe above exception was the direct cause of the following exception:\n",
      "\u001b[0;31mKeyError\u001b[0m                                  Traceback (most recent call last)",
      "Cell \u001b[0;32mIn[149], line 2\u001b[0m\n\u001b[1;32m      1\u001b[0m \u001b[38;5;28;01mfor\u001b[39;00m cid \u001b[38;5;129;01min\u001b[39;00m traffic_handled\u001b[38;5;241m.\u001b[39mindex:\n\u001b[0;32m----> 2\u001b[0m     total_traffic_cid \u001b[38;5;241m=\u001b[39m \u001b[43mtotal_traffic\u001b[49m\u001b[43m[\u001b[49m\u001b[43mcid\u001b[49m\u001b[43m]\u001b[49m\n\u001b[1;32m      3\u001b[0m     weighted_sum \u001b[38;5;241m=\u001b[39m \u001b[38;5;241m0\u001b[39m\n\u001b[1;32m      4\u001b[0m     \u001b[38;5;28;01mfor\u001b[39;00m model \u001b[38;5;129;01min\u001b[39;00m traffic_handled\u001b[38;5;241m.\u001b[39mcolumns:\n",
      "File \u001b[0;32m~/miniconda3/envs/bitbrain/lib/python3.11/site-packages/pandas/core/series.py:1007\u001b[0m, in \u001b[0;36mSeries.__getitem__\u001b[0;34m(self, key)\u001b[0m\n\u001b[1;32m   1004\u001b[0m     \u001b[38;5;28;01mreturn\u001b[39;00m \u001b[38;5;28mself\u001b[39m\u001b[38;5;241m.\u001b[39m_values[key]\n\u001b[1;32m   1006\u001b[0m \u001b[38;5;28;01melif\u001b[39;00m key_is_scalar:\n\u001b[0;32m-> 1007\u001b[0m     \u001b[38;5;28;01mreturn\u001b[39;00m \u001b[38;5;28;43mself\u001b[39;49m\u001b[38;5;241;43m.\u001b[39;49m\u001b[43m_get_value\u001b[49m\u001b[43m(\u001b[49m\u001b[43mkey\u001b[49m\u001b[43m)\u001b[49m\n\u001b[1;32m   1009\u001b[0m \u001b[38;5;28;01mif\u001b[39;00m is_hashable(key):\n\u001b[1;32m   1010\u001b[0m     \u001b[38;5;66;03m# Otherwise index.get_value will raise InvalidIndexError\u001b[39;00m\n\u001b[1;32m   1011\u001b[0m     \u001b[38;5;28;01mtry\u001b[39;00m:\n\u001b[1;32m   1012\u001b[0m         \u001b[38;5;66;03m# For labels that don't resolve as scalars like tuples and frozensets\u001b[39;00m\n",
      "File \u001b[0;32m~/miniconda3/envs/bitbrain/lib/python3.11/site-packages/pandas/core/series.py:1116\u001b[0m, in \u001b[0;36mSeries._get_value\u001b[0;34m(self, label, takeable)\u001b[0m\n\u001b[1;32m   1113\u001b[0m     \u001b[38;5;28;01mreturn\u001b[39;00m \u001b[38;5;28mself\u001b[39m\u001b[38;5;241m.\u001b[39m_values[label]\n\u001b[1;32m   1115\u001b[0m \u001b[38;5;66;03m# Similar to Index.get_value, but we do not fall back to positional\u001b[39;00m\n\u001b[0;32m-> 1116\u001b[0m loc \u001b[38;5;241m=\u001b[39m \u001b[38;5;28;43mself\u001b[39;49m\u001b[38;5;241;43m.\u001b[39;49m\u001b[43mindex\u001b[49m\u001b[38;5;241;43m.\u001b[39;49m\u001b[43mget_loc\u001b[49m\u001b[43m(\u001b[49m\u001b[43mlabel\u001b[49m\u001b[43m)\u001b[49m\n\u001b[1;32m   1118\u001b[0m \u001b[38;5;28;01mif\u001b[39;00m is_integer(loc):\n\u001b[1;32m   1119\u001b[0m     \u001b[38;5;28;01mreturn\u001b[39;00m \u001b[38;5;28mself\u001b[39m\u001b[38;5;241m.\u001b[39m_values[loc]\n",
      "File \u001b[0;32m~/miniconda3/envs/bitbrain/lib/python3.11/site-packages/pandas/core/indexes/base.py:3655\u001b[0m, in \u001b[0;36mIndex.get_loc\u001b[0;34m(self, key)\u001b[0m\n\u001b[1;32m   3653\u001b[0m     \u001b[38;5;28;01mreturn\u001b[39;00m \u001b[38;5;28mself\u001b[39m\u001b[38;5;241m.\u001b[39m_engine\u001b[38;5;241m.\u001b[39mget_loc(casted_key)\n\u001b[1;32m   3654\u001b[0m \u001b[38;5;28;01mexcept\u001b[39;00m \u001b[38;5;167;01mKeyError\u001b[39;00m \u001b[38;5;28;01mas\u001b[39;00m err:\n\u001b[0;32m-> 3655\u001b[0m     \u001b[38;5;28;01mraise\u001b[39;00m \u001b[38;5;167;01mKeyError\u001b[39;00m(key) \u001b[38;5;28;01mfrom\u001b[39;00m \u001b[38;5;21;01merr\u001b[39;00m\n\u001b[1;32m   3656\u001b[0m \u001b[38;5;28;01mexcept\u001b[39;00m \u001b[38;5;167;01mTypeError\u001b[39;00m:\n\u001b[1;32m   3657\u001b[0m     \u001b[38;5;66;03m# If we have a listlike key, _check_indexing_error will raise\u001b[39;00m\n\u001b[1;32m   3658\u001b[0m     \u001b[38;5;66;03m#  InvalidIndexError. Otherwise we fall through and re-raise\u001b[39;00m\n\u001b[1;32m   3659\u001b[0m     \u001b[38;5;66;03m#  the TypeError.\u001b[39;00m\n\u001b[1;32m   3660\u001b[0m     \u001b[38;5;28mself\u001b[39m\u001b[38;5;241m.\u001b[39m_check_indexing_error(key)\n",
      "\u001b[0;31mKeyError\u001b[0m: 500"
     ]
    }
   ],
   "source": [
    "for cid in traffic_handled.index:\n",
    "    total_traffic_cid = total_traffic[cid]\n",
    "    weighted_sum = 0\n",
    "    for model in traffic_handled.columns:\n",
    "        traffic_by_model = traffic_handled.loc[cid, model]\n",
    "        if traffic_by_model > 0:\n",
    "            model_accuracy = model_accuracies[model]\n",
    "            weighted_sum += (traffic_by_model / total_traffic_cid) * model_accuracy\n",
    "    average_accuracies[cid] = weighted_sum\n",
    "\n",
    "print(\"Average accuracies for each cid:\")\n",
    "print(average_accuracies)"
   ]
  },
  {
   "cell_type": "code",
   "execution_count": null,
   "metadata": {},
   "outputs": [],
   "source": []
  }
 ],
 "metadata": {
  "kernelspec": {
   "display_name": "bitbrain",
   "language": "python",
   "name": "bitbrain"
  },
  "language_info": {
   "codemirror_mode": {
    "name": "ipython",
    "version": 3
   },
   "file_extension": ".py",
   "mimetype": "text/x-python",
   "name": "python",
   "nbconvert_exporter": "python",
   "pygments_lexer": "ipython3",
   "version": "3.11.4"
  }
 },
 "nbformat": 4,
 "nbformat_minor": 2
}
